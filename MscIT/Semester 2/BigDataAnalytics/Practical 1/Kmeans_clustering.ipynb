{
 "cells": [
  {
   "cell_type": "code",
   "execution_count": 1,
   "id": "7867dfc0",
   "metadata": {},
   "outputs": [],
   "source": [
    "options(warn=-1)"
   ]
  },
  {
   "cell_type": "code",
   "execution_count": 2,
   "id": "5301471f",
   "metadata": {},
   "outputs": [
    {
     "name": "stderr",
     "output_type": "stream",
     "text": [
      "Installing package into 'C:/Users/User/AppData/Local/R/win-library/4.2'\n",
      "(as 'lib' is unspecified)\n",
      "\n"
     ]
    },
    {
     "name": "stdout",
     "output_type": "stream",
     "text": [
      "package 'plyr' successfully unpacked and MD5 sums checked\n",
      "\n",
      "The downloaded binary packages are in\n",
      "\tC:\\Users\\User\\AppData\\Local\\Temp\\Rtmpg7HV8c\\downloaded_packages\n"
     ]
    }
   ],
   "source": [
    "install.packages(\"plyr\")"
   ]
  },
  {
   "cell_type": "code",
   "execution_count": 3,
   "id": "2baf3f7d",
   "metadata": {},
   "outputs": [
    {
     "name": "stderr",
     "output_type": "stream",
     "text": [
      "Installing package into 'C:/Users/User/AppData/Local/R/win-library/4.2'\n",
      "(as 'lib' is unspecified)\n",
      "\n"
     ]
    },
    {
     "name": "stdout",
     "output_type": "stream",
     "text": [
      "package 'ggplot2' successfully unpacked and MD5 sums checked\n",
      "\n",
      "The downloaded binary packages are in\n",
      "\tC:\\Users\\User\\AppData\\Local\\Temp\\Rtmpg7HV8c\\downloaded_packages\n"
     ]
    },
    {
     "name": "stderr",
     "output_type": "stream",
     "text": [
      "Installing package into 'C:/Users/User/AppData/Local/R/win-library/4.2'\n",
      "(as 'lib' is unspecified)\n",
      "\n"
     ]
    },
    {
     "name": "stdout",
     "output_type": "stream",
     "text": [
      "package 'cluster' successfully unpacked and MD5 sums checked\n",
      "\n",
      "The downloaded binary packages are in\n",
      "\tC:\\Users\\User\\AppData\\Local\\Temp\\Rtmpg7HV8c\\downloaded_packages\n"
     ]
    }
   ],
   "source": [
    "install.packages(\"ggplot2\")\n",
    "install.packages(\"cluster\")"
   ]
  },
  {
   "cell_type": "code",
   "execution_count": 4,
   "id": "403ad3ff",
   "metadata": {},
   "outputs": [
    {
     "name": "stderr",
     "output_type": "stream",
     "text": [
      "Installing package into 'C:/Users/User/AppData/Local/R/win-library/4.2'\n",
      "(as 'lib' is unspecified)\n",
      "\n"
     ]
    },
    {
     "name": "stdout",
     "output_type": "stream",
     "text": [
      "package 'lattice' successfully unpacked and MD5 sums checked\n",
      "\n",
      "The downloaded binary packages are in\n",
      "\tC:\\Users\\User\\AppData\\Local\\Temp\\Rtmpg7HV8c\\downloaded_packages\n"
     ]
    },
    {
     "name": "stderr",
     "output_type": "stream",
     "text": [
      "Installing package into 'C:/Users/User/AppData/Local/R/win-library/4.2'\n",
      "(as 'lib' is unspecified)\n",
      "\n",
      "Installing package into 'C:/Users/User/AppData/Local/R/win-library/4.2'\n",
      "(as 'lib' is unspecified)\n",
      "\n"
     ]
    },
    {
     "name": "stdout",
     "output_type": "stream",
     "text": [
      "package 'gridExtra' successfully unpacked and MD5 sums checked\n",
      "\n",
      "The downloaded binary packages are in\n",
      "\tC:\\Users\\User\\AppData\\Local\\Temp\\Rtmpg7HV8c\\downloaded_packages\n"
     ]
    }
   ],
   "source": [
    "install.packages(\"lattice\")\n",
    "install.packages(\"grid\")\n",
    "install.packages(\"gridExtra\")"
   ]
  },
  {
   "cell_type": "code",
   "execution_count": 5,
   "id": "7155a5fc",
   "metadata": {},
   "outputs": [],
   "source": [
    "library(plyr)\n",
    "library(ggplot2)\n",
    "library(cluster)\n",
    "library(lattice)\n",
    "library(grid)\n",
    "library(gridExtra)"
   ]
  },
  {
   "cell_type": "code",
   "execution_count": 6,
   "id": "92e9915d",
   "metadata": {},
   "outputs": [
    {
     "data": {
      "text/html": [
       "<table class=\"dataframe\">\n",
       "<caption>A matrix: 10 × 3 of type int</caption>\n",
       "<thead>\n",
       "\t<tr><th scope=col>English</th><th scope=col>Math</th><th scope=col>Science</th></tr>\n",
       "</thead>\n",
       "<tbody>\n",
       "\t<tr><td> 99</td><td> 96</td><td>97</td></tr>\n",
       "\t<tr><td> 99</td><td> 96</td><td>97</td></tr>\n",
       "\t<tr><td> 98</td><td> 97</td><td>97</td></tr>\n",
       "\t<tr><td> 95</td><td>100</td><td>95</td></tr>\n",
       "\t<tr><td> 95</td><td> 96</td><td>96</td></tr>\n",
       "\t<tr><td> 96</td><td> 97</td><td>96</td></tr>\n",
       "\t<tr><td>100</td><td> 96</td><td>97</td></tr>\n",
       "\t<tr><td> 95</td><td> 98</td><td>98</td></tr>\n",
       "\t<tr><td> 98</td><td> 96</td><td>96</td></tr>\n",
       "\t<tr><td> 99</td><td> 99</td><td>95</td></tr>\n",
       "</tbody>\n",
       "</table>\n"
      ],
      "text/latex": [
       "A matrix: 10 × 3 of type int\n",
       "\\begin{tabular}{lll}\n",
       " English & Math & Science\\\\\n",
       "\\hline\n",
       "\t  99 &  96 & 97\\\\\n",
       "\t  99 &  96 & 97\\\\\n",
       "\t  98 &  97 & 97\\\\\n",
       "\t  95 & 100 & 95\\\\\n",
       "\t  95 &  96 & 96\\\\\n",
       "\t  96 &  97 & 96\\\\\n",
       "\t 100 &  96 & 97\\\\\n",
       "\t  95 &  98 & 98\\\\\n",
       "\t  98 &  96 & 96\\\\\n",
       "\t  99 &  99 & 95\\\\\n",
       "\\end{tabular}\n"
      ],
      "text/markdown": [
       "\n",
       "A matrix: 10 × 3 of type int\n",
       "\n",
       "| English | Math | Science |\n",
       "|---|---|---|\n",
       "|  99 |  96 | 97 |\n",
       "|  99 |  96 | 97 |\n",
       "|  98 |  97 | 97 |\n",
       "|  95 | 100 | 95 |\n",
       "|  95 |  96 | 96 |\n",
       "|  96 |  97 | 96 |\n",
       "| 100 |  96 | 97 |\n",
       "|  95 |  98 | 98 |\n",
       "|  98 |  96 | 96 |\n",
       "|  99 |  99 | 95 |\n",
       "\n"
      ],
      "text/plain": [
       "      English Math Science\n",
       " [1,]  99      96  97     \n",
       " [2,]  99      96  97     \n",
       " [3,]  98      97  97     \n",
       " [4,]  95     100  95     \n",
       " [5,]  95      96  96     \n",
       " [6,]  96      97  96     \n",
       " [7,] 100      96  97     \n",
       " [8,]  95      98  98     \n",
       " [9,]  98      96  96     \n",
       "[10,]  99      99  95     "
      ]
     },
     "metadata": {},
     "output_type": "display_data"
    }
   ],
   "source": [
    "grade_input=as.data.frame(read.csv(\"F:/GitHub/Practical_BscIT_MscIT_Ninad/MscIT/Semester 2/BigDataAnalytics/Dataset/grades_km_input.csv\"))\n",
    "kmdata_orig=as.matrix(grade_input[, c (\"Student\",\"English\",\"Math\",\"Science\")])\n",
    "kmdata=kmdata_orig[,2:4]\n",
    "kmdata[1:10,]"
   ]
  },
  {
   "cell_type": "code",
   "execution_count": 7,
   "id": "fa3591d9",
   "metadata": {},
   "outputs": [],
   "source": [
    "# the k-means algorithm is used to identify clusters for k = 1, 2, .. . , 15. For each value of k, the WSS is calculated.\n",
    "wss=numeric(15)"
   ]
  },
  {
   "cell_type": "code",
   "execution_count": 8,
   "id": "688304e9",
   "metadata": {},
   "outputs": [
    {
     "data": {
      "image/png": "[encoded data removed]",
      "text/plain": [
       "plot without title"
      ]
     },
     "metadata": {
      "image/png": {
       "height": 420,
       "width": 420
      }
     },
     "output_type": "display_data"
    }
   ],
   "source": [
    "# the option n start=25 specifies that the k-means algorithm will be repeated 25 times, each starting with k random initial centroids\n",
    "for(k in 1:15)\n",
    "    wss[k]=sum(kmeans(kmdata,centers=k,nstart=25)$withinss)\n",
    "plot(1:15,wss,type=\"b\",xlab=\"Number of Clusters\",ylab=\"Within sum of square\")"
   ]
  },
  {
   "cell_type": "code",
   "execution_count": 9,
   "id": "96a2be66",
   "metadata": {},
   "outputs": [
    {
     "data": {
      "text/plain": [
       "K-means clustering with 3 clusters of sizes 218, 158, 244\n",
       "\n",
       "Cluster means:\n",
       "   English     Math  Science\n",
       "1 73.22018 64.62844 65.84862\n",
       "2 97.21519 93.37342 94.86076\n",
       "3 85.84426 79.68033 81.50820\n",
       "\n",
       "Clustering vector:\n",
       "  [1] 2 2 2 2 2 2 2 2 2 2 2 2 2 2 2 2 2 2 2 2 2 2 2 2 2 2 2 2 2 2 2 2 2 2 2 2 2\n",
       " [38] 2 2 2 2 2 2 2 2 2 2 2 2 2 2 2 2 2 2 2 2 2 2 2 2 2 2 2 2 2 2 2 2 2 2 2 2 2\n",
       " [75] 2 2 2 2 2 2 2 2 2 2 2 2 2 2 2 2 2 2 2 2 2 2 2 2 2 2 2 2 2 2 2 2 2 2 2 2 2\n",
       "[112] 2 2 2 2 2 2 2 2 2 2 2 2 2 2 2 2 2 2 2 2 2 2 2 2 2 2 2 2 2 2 2 2 2 2 2 2 2\n",
       "[149] 2 2 3 3 3 3 3 3 3 3 3 3 3 3 3 3 3 3 2 3 3 3 3 3 3 3 3 3 3 2 2 3 3 2 3 3 3\n",
       "[186] 2 3 3 3 3 3 3 2 3 3 3 3 3 3 3 3 3 3 3 3 3 3 3 3 3 3 3 3 3 3 3 3 3 3 3 3 3\n",
       "[223] 3 3 3 3 3 3 3 3 3 3 3 3 3 3 3 3 3 3 3 3 3 3 3 3 3 3 3 3 3 3 3 3 3 3 3 3 3\n",
       "[260] 3 3 3 3 3 3 3 3 3 3 3 3 3 3 3 3 3 3 3 3 3 3 3 3 3 3 3 3 3 3 3 3 3 3 3 3 3\n",
       "[297] 3 3 3 3 3 3 3 3 3 3 3 3 3 3 3 3 3 3 3 3 3 3 3 3 3 3 3 3 3 3 3 3 3 3 3 3 3\n",
       "[334] 3 3 3 3 3 3 3 3 3 3 3 3 3 3 3 3 3 3 3 3 3 3 3 3 3 3 3 3 3 3 3 3 3 3 3 3 3\n",
       "[371] 3 3 3 3 3 3 1 1 1 1 1 1 1 3 1 3 1 3 3 3 1 1 1 1 3 3 1 1 1 1 1 1 1 1 1 1 1\n",
       "[408] 1 1 1 1 1 1 1 1 1 1 1 1 1 1 1 1 1 1 1 1 1 1 1 1 1 1 1 1 1 1 1 1 1 1 1 1 1\n",
       "[445] 1 1 3 1 1 1 1 1 1 1 1 1 1 1 1 1 1 1 1 1 1 3 1 1 1 3 1 1 1 1 1 1 1 1 3 1 1\n",
       "[482] 1 1 1 1 1 1 1 1 1 1 1 1 1 1 1 1 1 1 1 1 1 1 1 1 1 1 1 1 1 1 1 1 1 1 1 1 1\n",
       "[519] 1 1 1 1 1 1 1 1 1 1 1 1 1 1 1 1 1 1 1 1 1 1 1 1 1 1 1 1 1 1 1 1 1 1 1 1 1\n",
       "[556] 1 1 1 1 1 1 1 1 1 1 1 1 1 1 1 1 1 1 1 1 1 1 1 1 1 1 1 1 1 1 1 1 1 1 1 1 1\n",
       "[593] 1 1 1 1 1 1 1 1 3 3 1 1 3 3 3 3 2 2 3 3 3 1 1 3 1 3 3 3\n",
       "\n",
       "Within cluster sum of squares by cluster:\n",
       "[1] 34806.339  6692.589 22984.131\n",
       " (between_SS / total_SS =  76.5 %)\n",
       "\n",
       "Available components:\n",
       "\n",
       "[1] \"cluster\"      \"centers\"      \"totss\"        \"withinss\"     \"tot.withinss\"\n",
       "[6] \"betweenss\"    \"size\"         \"iter\"         \"ifault\"      "
      ]
     },
     "metadata": {},
     "output_type": "display_data"
    }
   ],
   "source": [
    "#As can be seen, the WSS is greatly reduced when k increases from one to two. Another substantial reduction in WSS occurs at k = 3. However, the improvement in WSS is fairly linear fork > 3.\n",
    "km = kmeans(kmdata,3,nstart=25)\n",
    "km"
   ]
  },
  {
   "cell_type": "code",
   "execution_count": 10,
   "id": "34fefb1a",
   "metadata": {},
   "outputs": [
    {
     "data": {
      "text/html": [
       "<style>\n",
       ".list-inline {list-style: none; margin:0; padding: 0}\n",
       ".list-inline>li {display: inline-block}\n",
       ".list-inline>li:not(:last-child)::after {content: \"\\00b7\"; padding: 0 .5ex}\n",
       "</style>\n",
       "<ol class=list-inline><li>64483.0592046773</li><li>64483.0592046773</li></ol>\n"
      ],
      "text/latex": [
       "\\begin{enumerate*}\n",
       "\\item 64483.0592046773\n",
       "\\item 64483.0592046773\n",
       "\\end{enumerate*}\n"
      ],
      "text/markdown": [
       "1. 64483.0592046773\n",
       "2. 64483.0592046773\n",
       "\n",
       "\n"
      ],
      "text/plain": [
       "[1] 64483.06 64483.06"
      ]
     },
     "metadata": {},
     "output_type": "display_data"
    }
   ],
   "source": [
    "c( wss[3] , sum(km$withinss))"
   ]
  },
  {
   "cell_type": "code",
   "execution_count": 11,
   "id": "cc5825a3",
   "metadata": {},
   "outputs": [],
   "source": [
    "df=as.data.frame(kmdata_orig[,2:4])\n",
    "df$cluster=factor(km$cluster)\n",
    "centers=as.data.frame(km$centers)"
   ]
  },
  {
   "cell_type": "code",
   "execution_count": 12,
   "id": "94379ade",
   "metadata": {},
   "outputs": [
    {
     "data": {
      "image/png": "[encoded data removed]",
      "text/plain": [
       "plot without title"
      ]
     },
     "metadata": {
      "image/png": {
       "height": 420,
       "width": 420
      }
     },
     "output_type": "display_data"
    }
   ],
   "source": [
    "g1=ggplot(data=df, aes(x=English, y=Math, color=cluster )) + geom_point() + theme(legend.position=\"right\") + geom_point(data=centers,aes(x=English,y=Math, color=as.factor(c(1,2,3))),size=10, alpha=.3, show.legend =FALSE)\n",
    "\n",
    "g2=ggplot(data=df, aes(x=English, y=Science, color=cluster )) + geom_point () +geom_point(data=centers,aes(x=English,y=Science, color=as.factor(c(1,2,3))),size=10, alpha=.3, show.legend=FALSE)\n",
    "\n",
    "g3 = ggplot(data=df, aes(x=Math, y=Science, color=cluster )) + geom_point () + geom_point(data=centers,aes(x=Math,y=Science, color=as.factor(c(1,2,3))),size=10, alpha=.3, show.legend=FALSE)\n",
    "tmp=ggplot_gtable(ggplot_build(g1))\n",
    "\n",
    "grid.arrange(arrangeGrob(g1 + theme(legend.position=\"none\"),g2 + theme(legend.position=\"none\"),g3 + theme(legend.position=\"none\"),top =\"High School Student Cluster Analysis\" ,ncol=1))"
   ]
  }
 ],
 "metadata": {
  "kernelspec": {
   "display_name": "R",
   "language": "R",
   "name": "ir"
  },
  "language_info": {
   "codemirror_mode": "r",
   "file_extension": ".r",
   "mimetype": "text/x-r-source",
   "name": "R",
   "pygments_lexer": "r",
   "version": "4.2.2"
  },
  "toc": {
   "base_numbering": 1,
   "nav_menu": {},
   "number_sections": true,
   "sideBar": true,
   "skip_h1_title": false,
   "title_cell": "Table of Contents",
   "title_sidebar": "Contents",
   "toc_cell": false,
   "toc_position": {},
   "toc_section_display": true,
   "toc_window_display": false
  }
 },
 "nbformat": 4,
 "nbformat_minor": 5
}
